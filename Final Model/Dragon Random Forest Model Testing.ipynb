{
 "cells": [
  {
   "cell_type": "markdown",
   "id": "5c59ea5c",
   "metadata": {},
   "source": [
    "## Testing Model "
   ]
  },
  {
   "cell_type": "code",
   "execution_count": 1,
   "id": "61424102",
   "metadata": {},
   "outputs": [],
   "source": [
    "from joblib import dump, load \n",
    "import numpy as np\n"
   ]
  },
  {
   "cell_type": "code",
   "execution_count": 2,
   "id": "6a3c09b4",
   "metadata": {},
   "outputs": [],
   "source": [
    "model=load(\"Dragon_restate.joblib\")"
   ]
  },
  {
   "cell_type": "code",
   "execution_count": 6,
   "id": "ca6ce128",
   "metadata": {},
   "outputs": [],
   "source": [
    "features = np.array([[-13.35082247, -1.99148409, -1.25183452, -0.27144836, -0.21067276,\n",
    "        0.35869844, -0.25450164,  1.07434355, -0.91150503,  0.17974455,\n",
    "       -1.08091535,  0.2995192 , -0.51357301]])\n"
   ]
  },
  {
   "cell_type": "code",
   "execution_count": 7,
   "id": "4998a93c",
   "metadata": {},
   "outputs": [
    {
     "data": {
      "text/plain": [
       "array([24.304])"
      ]
     },
     "execution_count": 7,
     "metadata": {},
     "output_type": "execute_result"
    }
   ],
   "source": [
    "model.predict(features)"
   ]
  },
  {
   "cell_type": "code",
   "execution_count": null,
   "id": "db503160",
   "metadata": {},
   "outputs": [],
   "source": []
  },
  {
   "cell_type": "code",
   "execution_count": null,
   "id": "d4833f91",
   "metadata": {},
   "outputs": [],
   "source": []
  },
  {
   "cell_type": "code",
   "execution_count": null,
   "id": "3d6ceb58",
   "metadata": {},
   "outputs": [],
   "source": []
  },
  {
   "cell_type": "code",
   "execution_count": null,
   "id": "db9ca14c",
   "metadata": {},
   "outputs": [],
   "source": []
  }
 ],
 "metadata": {
  "kernelspec": {
   "display_name": "Python 3 (ipykernel)",
   "language": "python",
   "name": "python3"
  },
  "language_info": {
   "codemirror_mode": {
    "name": "ipython",
    "version": 3
   },
   "file_extension": ".py",
   "mimetype": "text/x-python",
   "name": "python",
   "nbconvert_exporter": "python",
   "pygments_lexer": "ipython3",
   "version": "3.10.1"
  }
 },
 "nbformat": 4,
 "nbformat_minor": 5
}
